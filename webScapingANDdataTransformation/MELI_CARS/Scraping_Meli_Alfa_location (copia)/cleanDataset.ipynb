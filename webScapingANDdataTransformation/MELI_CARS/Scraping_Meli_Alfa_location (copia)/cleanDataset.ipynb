{
 "cells": [
  {
   "cell_type": "code",
   "execution_count": 1,
   "id": "db08610d",
   "metadata": {},
   "outputs": [],
   "source": [
    "import sqlite3 as sql\n",
    "import pandas as pd\n",
    "import re\n",
    "import numpy as np"
   ]
  },
  {
   "cell_type": "code",
   "execution_count": 2,
   "id": "4be77a77",
   "metadata": {},
   "outputs": [],
   "source": [
    "con=sql.connect('brandCars.db')"
   ]
  },
  {
   "cell_type": "code",
   "execution_count": 3,
   "id": "a1ec9438",
   "metadata": {},
   "outputs": [],
   "source": [
    "data = pd.read_sql('SELECT nameBrand FROM brandCars',con)\n",
    "#data"
   ]
  },
  {
   "cell_type": "code",
   "execution_count": 4,
   "id": "20834426",
   "metadata": {},
   "outputs": [],
   "source": [
    "def Brand(marcas,auto):\n",
    "    for x in marcas:\n",
    "        if( str(x[0]) in auto ):\n",
    "            auto = auto.replace(x[0],'')\n",
    "            modelo=auto.split()[0] \n",
    "            marca = x[0]\n",
    "            motor=re.findall(r\"[-+]?(?:\\d*\\.\\d+|\\d+)\",auto)\n",
    "            auto=auto.split(str(motor[0]))  \n",
    "            print(auto[1])\n",
    "            if( auto[1].startswith('l ') ):\n",
    "                linea=auto[1].split()[1]\n",
    "                print(linea)\n",
    "            else:\n",
    "                 linea=auto[1]\n",
    "    return (marca,modelo,motor[1],linea)"
   ]
  },
  {
   "cell_type": "code",
   "execution_count": 5,
   "id": "6caaca82",
   "metadata": {},
   "outputs": [],
   "source": [
    "def Brand_x(marcas,auto):\n",
    "    try:\n",
    "        for x in marcas:\n",
    "            if( str(x[0]) in auto ):\n",
    "                auto = auto.replace(x[0],'')\n",
    "                modelo=auto.split()[0] \n",
    "                marca = x[0]\n",
    "                motor=re.findall(r\"[-+]?(?:\\d*\\.\\d+|\\d+)\",auto)\n",
    "                auto=auto.split(str(motor[0]))  \n",
    "                linea=auto[1].split()[1]\n",
    "                #print(linea[1])\n",
    "        return (marca,modelo,motor[1],linea)\n",
    "    except:\n",
    "        print('')"
   ]
  },
  {
   "cell_type": "code",
   "execution_count": 6,
   "id": "4dd40e83",
   "metadata": {},
   "outputs": [
    {
     "data": {
      "text/plain": [
       "('Peugeot', '208', '1.6', 'Style')"
      ]
     },
     "execution_count": 6,
     "metadata": {},
     "output_type": "execute_result"
    }
   ],
   "source": [
    "marcas=np.array(data.iloc[ 1:,0:1])\n",
    "auto='Peugeot 208 1.6l Style'\n",
    "Brand_x(marcas,auto)"
   ]
  },
  {
   "cell_type": "code",
   "execution_count": null,
   "id": "3a53ea55",
   "metadata": {},
   "outputs": [],
   "source": []
  },
  {
   "cell_type": "code",
   "execution_count": 15,
   "id": "45311207",
   "metadata": {},
   "outputs": [],
   "source": [
    "aux='Escobar - Bs.As. G.B.A. Norte'"
   ]
  },
  {
   "cell_type": "code",
   "execution_count": 20,
   "id": "ab4a76ce",
   "metadata": {},
   "outputs": [],
   "source": [
    "def dividirStr(aux):\n",
    "    lista=aux.split(' - ')\n",
    "    return lista[0]"
   ]
  },
  {
   "cell_type": "code",
   "execution_count": 21,
   "id": "95484f06",
   "metadata": {},
   "outputs": [
    {
     "name": "stdout",
     "output_type": "stream",
     "text": [
      "Escobar\n"
     ]
    }
   ],
   "source": [
    "print(dividirStr(aux))"
   ]
  },
  {
   "cell_type": "code",
   "execution_count": null,
   "id": "b970446b",
   "metadata": {},
   "outputs": [],
   "source": []
  }
 ],
 "metadata": {
  "kernelspec": {
   "display_name": "Python 3 (ipykernel)",
   "language": "python",
   "name": "python3"
  },
  "language_info": {
   "codemirror_mode": {
    "name": "ipython",
    "version": 3
   },
   "file_extension": ".py",
   "mimetype": "text/x-python",
   "name": "python",
   "nbconvert_exporter": "python",
   "pygments_lexer": "ipython3",
   "version": "3.8.10"
  }
 },
 "nbformat": 4,
 "nbformat_minor": 5
}
