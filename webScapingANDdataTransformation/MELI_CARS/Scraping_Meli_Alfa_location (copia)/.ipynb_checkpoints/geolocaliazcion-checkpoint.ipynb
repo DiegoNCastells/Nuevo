{
 "cells": [
  {
   "cell_type": "code",
   "execution_count": 3,
   "id": "d605a6a9",
   "metadata": {},
   "outputs": [],
   "source": [
    "#pip install geopy"
   ]
  },
  {
   "cell_type": "code",
   "execution_count": 23,
   "id": "17924061",
   "metadata": {},
   "outputs": [],
   "source": [
    "from geopy.geocoders import Nominatim \n",
    "import pandas as pd\n",
    "import numpy as np"
   ]
  },
  {
   "cell_type": "code",
   "execution_count": 24,
   "id": "957a042c",
   "metadata": {},
   "outputs": [],
   "source": [
    "data=pd.read_csv('Peugeot 208_cars_alfa.csv',encoding='utf-8')"
   ]
  },
  {
   "cell_type": "code",
   "execution_count": 25,
   "id": "a575fcf4",
   "metadata": {},
   "outputs": [
    {
     "data": {
      "text/html": [
       "<div>\n",
       "<style scoped>\n",
       "    .dataframe tbody tr th:only-of-type {\n",
       "        vertical-align: middle;\n",
       "    }\n",
       "\n",
       "    .dataframe tbody tr th {\n",
       "        vertical-align: top;\n",
       "    }\n",
       "\n",
       "    .dataframe thead th {\n",
       "        text-align: right;\n",
       "    }\n",
       "</style>\n",
       "<table border=\"1\" class=\"dataframe\">\n",
       "  <thead>\n",
       "    <tr style=\"text-align: right;\">\n",
       "      <th></th>\n",
       "      <th>name</th>\n",
       "      <th>year</th>\n",
       "      <th>km</th>\n",
       "      <th>amount</th>\n",
       "      <th>currenly</th>\n",
       "      <th>city</th>\n",
       "      <th>province</th>\n",
       "      <th>date</th>\n",
       "      <th>url</th>\n",
       "    </tr>\n",
       "  </thead>\n",
       "  <tbody>\n",
       "    <tr>\n",
       "      <th>0</th>\n",
       "      <td>Peugeot 208 1.2 Like</td>\n",
       "      <td>2022</td>\n",
       "      <td>19.0</td>\n",
       "      <td>3.988.600</td>\n",
       "      <td>$</td>\n",
       "      <td>Escobar</td>\n",
       "      <td>Bs.As. G.B.A. Norte</td>\n",
       "      <td>6 días</td>\n",
       "      <td>https://auto.mercadolibre.com.ar/MLA-115984069...</td>\n",
       "    </tr>\n",
       "    <tr>\n",
       "      <th>1</th>\n",
       "      <td>Peugeot 208 1.6 Xy</td>\n",
       "      <td>2014</td>\n",
       "      <td>45.0</td>\n",
       "      <td>3.350.000</td>\n",
       "      <td>$</td>\n",
       "      <td>La Matanza</td>\n",
       "      <td>Bs.As. G.B.A. Oeste</td>\n",
       "      <td>3 meses</td>\n",
       "      <td>https://auto.mercadolibre.com.ar/MLA-114616591...</td>\n",
       "    </tr>\n",
       "    <tr>\n",
       "      <th>2</th>\n",
       "      <td>Peugeot 208 1.6 Feline Tiptronic</td>\n",
       "      <td>2018</td>\n",
       "      <td>63.0</td>\n",
       "      <td>4.650.000</td>\n",
       "      <td>$</td>\n",
       "      <td>General San Martín</td>\n",
       "      <td>Bs.As. G.B.A. Norte</td>\n",
       "      <td>9 días</td>\n",
       "      <td>https://auto.mercadolibre.com.ar/MLA-115916028...</td>\n",
       "    </tr>\n",
       "  </tbody>\n",
       "</table>\n",
       "</div>"
      ],
      "text/plain": [
       "                               name  year    km     amount currenly  \\\n",
       "0              Peugeot 208 1.2 Like  2022  19.0  3.988.600        $   \n",
       "1                Peugeot 208 1.6 Xy  2014  45.0  3.350.000        $   \n",
       "2  Peugeot 208 1.6 Feline Tiptronic  2018  63.0  4.650.000        $   \n",
       "\n",
       "                  city              province     date  \\\n",
       "0             Escobar    Bs.As. G.B.A. Norte   6 días   \n",
       "1          La Matanza    Bs.As. G.B.A. Oeste  3 meses   \n",
       "2  General San Martín    Bs.As. G.B.A. Norte   9 días   \n",
       "\n",
       "                                                 url  \n",
       "0  https://auto.mercadolibre.com.ar/MLA-115984069...  \n",
       "1  https://auto.mercadolibre.com.ar/MLA-114616591...  \n",
       "2  https://auto.mercadolibre.com.ar/MLA-115916028...  "
      ]
     },
     "execution_count": 25,
     "metadata": {},
     "output_type": "execute_result"
    }
   ],
   "source": [
    "data=data.head()\n",
    "data"
   ]
  },
  {
   "cell_type": "code",
   "execution_count": 22,
   "id": "610f7f7a",
   "metadata": {},
   "outputs": [
    {
     "name": "stdout",
     "output_type": "stream",
     "text": [
      "(-34.3453213, -58.7950701)\n"
     ]
    }
   ],
   "source": [
    "geolocator = Nominatim(user_agent=\"DiegoPila\")\n",
    "for datos in data\n",
    "    location=geolocator.geocode(\"{X},{Y},Argentina\".format(X=datos[5],Y=datos[6]))\n",
    "    #location = geolocator.reverse(\"52.509669, 13.376294\")\n",
    "    print((location.latitude, location.longitude))"
   ]
  },
  {
   "cell_type": "code",
   "execution_count": null,
   "id": "9a303524",
   "metadata": {},
   "outputs": [],
   "source": [
    "(28.2842953, -107.2033807)"
   ]
  },
  {
   "cell_type": "code",
   "execution_count": null,
   "id": "3a759e29",
   "metadata": {},
   "outputs": [],
   "source": []
  }
 ],
 "metadata": {
  "kernelspec": {
   "display_name": "Python 3 (ipykernel)",
   "language": "python",
   "name": "python3"
  },
  "language_info": {
   "codemirror_mode": {
    "name": "ipython",
    "version": 3
   },
   "file_extension": ".py",
   "mimetype": "text/x-python",
   "name": "python",
   "nbconvert_exporter": "python",
   "pygments_lexer": "ipython3",
   "version": "3.8.10"
  }
 },
 "nbformat": 4,
 "nbformat_minor": 5
}
