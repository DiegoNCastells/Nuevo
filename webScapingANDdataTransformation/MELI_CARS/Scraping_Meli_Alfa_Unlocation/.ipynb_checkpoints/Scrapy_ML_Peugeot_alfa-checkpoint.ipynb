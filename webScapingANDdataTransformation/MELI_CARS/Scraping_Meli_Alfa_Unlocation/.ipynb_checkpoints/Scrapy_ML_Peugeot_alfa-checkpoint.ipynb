{
 "cells": [
  {
   "cell_type": "code",
   "execution_count": 1,
   "id": "529f67e0",
   "metadata": {},
   "outputs": [],
   "source": [
    "import requests\n",
    "import lxml\n",
    "import time\n",
    "import csv\n",
    "from bs4 import BeautifulSoup"
   ]
  },
  {
   "cell_type": "code",
   "execution_count": 2,
   "id": "7cf6604a",
   "metadata": {},
   "outputs": [],
   "source": [
    "def _save_cars(data_car,name,csv_headers):\n",
    "    out_file_name = '{x}_cars_alfa.csv'.format(x=name)\n",
    "    \n",
    "    with open(out_file_name, mode='w') as f:\n",
    "        writer = csv.writer(f)\n",
    "        writer.writerow(csv_headers)\n",
    "\n",
    "        for data in data_car:\n",
    "            #row = [str(getattr(article, prop)) for prop in csv_headers]\n",
    "            row =data\n",
    "            writer.writerow(row)"
   ]
  },
  {
   "cell_type": "code",
   "execution_count": 3,
   "id": "9ffa9437",
   "metadata": {
    "scrolled": true
   },
   "outputs": [],
   "source": [
    "def returnData(data):\n",
    "    dataClean=[dataAux.get_text() for dataAux in data]\n",
    "    #print(dataClean)\n",
    "    return list(dataClean)\n",
    "def returnUrl(data):\n",
    "    dataClean=[dataAux.get('href') for dataAux in data]\n",
    "    #print(dataClean)\n",
    "    return list(dataClean)"
   ]
  },
  {
   "cell_type": "code",
   "execution_count": 4,
   "id": "6440a649",
   "metadata": {},
   "outputs": [],
   "source": [
    "def cleanYear(data):\n",
    "    Year=[]\n",
    "    Km=[]\n",
    "    dataClean=[dataAux.get_text() for dataAux in data]\n",
    "    for i in range(len(dataClean)):\n",
    "        if((i%2)==0):\n",
    "            Year.append(dataClean[i])\n",
    "    return list(Year)\n",
    "def cleanKm(data):\n",
    "    Year=[]\n",
    "    Km=[]\n",
    "    dataClean=[dataAux.get_text() for dataAux in data]\n",
    "    for i in range(len(dataClean)):\n",
    "        if((i%2)!=0):\n",
    "            Km.append(dataClean[i])\n",
    "    return list(Km)"
   ]
  },
  {
   "cell_type": "code",
   "execution_count": 5,
   "id": "ab593c39",
   "metadata": {},
   "outputs": [],
   "source": [
    "def postDate(soup):\n",
    "    dateAprox=soup.find('span',attrs={'ui-pdp-subtitle'}).get_text().split('· Publicado hace ')\n",
    "    return dateAprox[1]"
   ]
  },
  {
   "cell_type": "code",
   "execution_count": 6,
   "id": "f721f702",
   "metadata": {},
   "outputs": [],
   "source": [
    "def createDate(url):\n",
    "    Date=[]\n",
    "    for i in range(0,len(url)):  \n",
    "        response_=requests.get(url[i],verify=False)\n",
    "        if (response_.status_code==200):\n",
    "            print('EXITO')\n",
    "            #print(response_.text,)\n",
    "            soup_=BeautifulSoup(response_.text,'html.parser')\n",
    "            Date.append( postDate(soup_) )\n",
    "        return Date"
   ]
  },
  {
   "cell_type": "code",
   "execution_count": 9,
   "id": "4401e6d6",
   "metadata": {
    "scrolled": true
   },
   "outputs": [],
   "source": [
    "def dataTransfor(name,year_cantKm,amount,currenly,location,url):\n",
    "        if True:\n",
    "            name = returnData(name)\n",
    "            url = returnUrl(url)\n",
    "            #date\n",
    "            date=createDate(url)\n",
    "            year = cleanYear(year_cantKm)\n",
    "            km = cleanKm(year_cantKm)\n",
    "            amount = returnData(amount)\n",
    "            currenly = returnData(currenly)\n",
    "            #location = returnData(location)\n",
    "\n",
    "        #return (name,year,km,amount,currenly,location,date,url) \n",
    "        #return (name,year,km,amount,currenly,date,url)     \n",
    "        return list( zip(name,year,km,amount,currenly,date,url) )"
   ]
  },
  {
   "cell_type": "code",
   "execution_count": 10,
   "id": "ecca46d1",
   "metadata": {},
   "outputs": [
    {
     "name": "stdout",
     "output_type": "stream",
     "text": [
      "1\n",
      "https://listado.mercadolibre.com.ar/peugeot-208#D[A:peugeot%20208,L:undefined]\n"
     ]
    },
    {
     "ename": "NameError",
     "evalue": "name 'location' is not defined",
     "output_type": "error",
     "traceback": [
      "\u001b[0;31m---------------------------------------------------------------------------\u001b[0m",
      "\u001b[0;31mNameError\u001b[0m                                 Traceback (most recent call last)",
      "Input \u001b[0;32mIn [10]\u001b[0m, in \u001b[0;36m<cell line: 4>\u001b[0;34m()\u001b[0m\n\u001b[1;32m     31\u001b[0m currenly\u001b[38;5;241m=\u001b[39msoup\u001b[38;5;241m.\u001b[39mfind_all(\u001b[38;5;124m'\u001b[39m\u001b[38;5;124mspan\u001b[39m\u001b[38;5;124m'\u001b[39m,attrs\u001b[38;5;241m=\u001b[39m{\u001b[38;5;124m'\u001b[39m\u001b[38;5;124mprice-tag-symbol\u001b[39m\u001b[38;5;124m'\u001b[39m})\n\u001b[1;32m     32\u001b[0m \u001b[38;5;66;03m#location \u001b[39;00m\n\u001b[0;32m---> 33\u001b[0m data\u001b[38;5;241m.\u001b[39mextend( dataTransfor(name,year_cantKm,amount,currenly,\u001b[43mlocation\u001b[49m,url)  )\n\u001b[1;32m     34\u001b[0m \u001b[38;5;66;03m#print(data)\u001b[39;00m\n\u001b[1;32m     35\u001b[0m \u001b[38;5;66;03m#data.append( dataTransfor(name,year_cantKm,amount,currenly,location,url) )\u001b[39;00m\n\u001b[1;32m     37\u001b[0m time\u001b[38;5;241m.\u001b[39msleep(\u001b[38;5;241m2\u001b[39m)\n",
      "\u001b[0;31mNameError\u001b[0m: name 'location' is not defined"
     ]
    }
   ],
   "source": [
    "sig_page='https://listado.mercadolibre.com.ar/peugeot-208#D[A:peugeot%20208,L:undefined]'\n",
    "response = requests.get(sig_page)\n",
    "data=[]\n",
    "if (response.status_code==200):\n",
    "        soup = BeautifulSoup(response.text,'html.parser')\n",
    "\n",
    "        dom=lxml.etree.HTML(str(soup))\n",
    "\n",
    "        DimL=int( dom.xpath('//div[@class=\"ui-search-pagination\"]/ul/li[contains(@class,\"andes-pagination__button andes-pagination__button--current\")]/span')[0].text )\n",
    "\n",
    "        DimF=int( soup.find('li',attrs={'andes-pagination__page-count'}).text.split(\" \")[1] )\n",
    "        \n",
    "        n_f=soup.find('h1',attrs={'ui-search-breadcrumb__title'})\n",
    "        name_file=n_f.get_text()\n",
    "        #header=['name','year','km','amount','currenly','location','date','url']\n",
    "        header=['name','year','km','amount','currenly','date','url']\n",
    "        while(DimL<DimF):\n",
    "            #while(DimL<6):\n",
    "\n",
    "                print(DimL)\n",
    "                print(sig_page)\n",
    "\n",
    "                    #title\n",
    "                name = soup.find_all('h2',attrs={'ui-search-item__title'}) \n",
    "                url = soup.find_all('a',attrs={'ui-search-result__content ui-search-link'})\n",
    "                    #cant_km \n",
    "                    #year\n",
    "                year_cantKm=soup.find_all('li',attrs={'ui-search-card-attributes__attribute'})\n",
    "                    #price\n",
    "                amount=soup.find_all('span',attrs={'price-tag-fraction'})\n",
    "                currenly=soup.find_all('span',attrs={'price-tag-symbol'})\n",
    "                #location \n",
    "\n",
    "                data.extend( dataTransfor(name,year_cantKm,amount,currenly,location,url)  )\n",
    "                print(data)\n",
    "                #data.append( dataTransfor(name,year_cantKm,amount,currenly,location,url) )\n",
    "                \n",
    "                time.sleep(2)\n",
    "                dom=lxml.etree.HTML(str(soup))\n",
    "                sig_page=dom.xpath('//div[@class=\"ui-search-pagination\"]/ul/li[contains(@class,\"andes-pagination__button andes-pagination__button--next\")]/a')[0].get('href')\n",
    "\n",
    "                response = requests.get(sig_page)\n",
    "                soup = BeautifulSoup(response.text,'html.parser')\n",
    "\n",
    "                DimL+=1"
   ]
  },
  {
   "cell_type": "code",
   "execution_count": 18,
   "id": "3b218932",
   "metadata": {},
   "outputs": [
    {
     "data": {
      "text/plain": [
       "[('Peugeot 208 1.2 Like',\n",
       "  '2022',\n",
       "  '19.000 Km',\n",
       "  '4.960.000',\n",
       "  '$',\n",
       "  '6 días',\n",
       "  'https://auto.mercadolibre.com.ar/MLA-1159840697-peugeot-2022-208-16-like-pack-l20-_JM#position=1&search_layout=grid&type=item&tracking_id=2d2621ac-1e13-46ee-8068-4692917e5f0c'),\n",
       " ('Peugeot 208 1.6 Allure',\n",
       "  '2019',\n",
       "  '27.000 Km',\n",
       "  '4.434.000',\n",
       "  '$',\n",
       "  '3 meses',\n",
       "  'https://auto.mercadolibre.com.ar/MLA-1138239943-peugeot-208-allure-_JM#position=1&search_layout=grid&type=item&tracking_id=97cdadab-7337-4eea-ba21-617a16d29537')]"
      ]
     },
     "execution_count": 18,
     "metadata": {},
     "output_type": "execute_result"
    }
   ],
   "source": [
    "data"
   ]
  },
  {
   "cell_type": "code",
   "execution_count": null,
   "id": "d77e953c",
   "metadata": {},
   "outputs": [],
   "source": [
    "data[0]"
   ]
  },
  {
   "cell_type": "code",
   "execution_count": null,
   "id": "4bf6fa74",
   "metadata": {},
   "outputs": [],
   "source": [
    "_save_cars(data,name_file,header)"
   ]
  },
  {
   "cell_type": "code",
   "execution_count": null,
   "id": "81d8051c",
   "metadata": {},
   "outputs": [],
   "source": [
    "data= pd.read_csv('Peugeot 208_cars_alfa.csv',encoding='utf-8')\n",
    "data"
   ]
  },
  {
   "cell_type": "code",
   "execution_count": null,
   "id": "4c5ad061",
   "metadata": {},
   "outputs": [],
   "source": []
  },
  {
   "cell_type": "code",
   "execution_count": null,
   "id": "0a1de9c9",
   "metadata": {},
   "outputs": [],
   "source": []
  },
  {
   "cell_type": "code",
   "execution_count": null,
   "id": "4af3fd85",
   "metadata": {},
   "outputs": [],
   "source": []
  },
  {
   "cell_type": "code",
   "execution_count": null,
   "id": "18a433fe",
   "metadata": {},
   "outputs": [],
   "source": []
  },
  {
   "cell_type": "code",
   "execution_count": null,
   "id": "5c4b7b08",
   "metadata": {},
   "outputs": [],
   "source": []
  },
  {
   "cell_type": "code",
   "execution_count": null,
   "id": "4e7cd0b5",
   "metadata": {},
   "outputs": [],
   "source": []
  },
  {
   "cell_type": "code",
   "execution_count": null,
   "id": "69665bff",
   "metadata": {},
   "outputs": [],
   "source": [
    "for x in data:\n",
    "    name.extend(list(x[0]))\n",
    "    year.extend(list(x[1]))\n",
    "    km.extend(list(x[2]))\n",
    "    amount.extend(list(x[3]))\n",
    "    currenly.extend(list(x[4]))\n",
    "    location.extend(list(x[5]))\n",
    "    date.extend(list(x[6]))\n",
    "    url.extend(list(x[7]))\n",
    "\n",
    "aux = list(zip(name,year,km,amount))\n",
    "aux3= list(zip(currenly,date,url))\n",
    "\n",
    "print(aux3)"
   ]
  }
 ],
 "metadata": {
  "kernelspec": {
   "display_name": "Python 3 (ipykernel)",
   "language": "python",
   "name": "python3"
  },
  "language_info": {
   "codemirror_mode": {
    "name": "ipython",
    "version": 3
   },
   "file_extension": ".py",
   "mimetype": "text/x-python",
   "name": "python",
   "nbconvert_exporter": "python",
   "pygments_lexer": "ipython3",
   "version": "3.8.10"
  }
 },
 "nbformat": 4,
 "nbformat_minor": 5
}
