{
 "cells": [
  {
   "cell_type": "code",
   "execution_count": 1,
   "id": "9fb69a08",
   "metadata": {},
   "outputs": [],
   "source": [
    "import re\n",
    "import requests\n",
    "from bs4 import BeautifulSoup as bs"
   ]
  },
  {
   "cell_type": "code",
   "execution_count": 2,
   "id": "f03baf8e",
   "metadata": {},
   "outputs": [],
   "source": [
    "import lxml\n",
    "import time"
   ]
  },
  {
   "cell_type": "code",
   "execution_count": 3,
   "id": "bec06369",
   "metadata": {},
   "outputs": [],
   "source": [
    "LINK=[]"
   ]
  },
  {
   "cell_type": "code",
   "execution_count": 4,
   "id": "41e850d5",
   "metadata": {},
   "outputs": [],
   "source": [
    "url='https://www.argenprop.com/inmuebles-venta-barrio-palermo'\n",
    "url_base='https://www.argenprop.com'\n",
    "response = requests.get(url)"
   ]
  },
  {
   "cell_type": "code",
   "execution_count": 5,
   "id": "e3ab6326",
   "metadata": {},
   "outputs": [],
   "source": [
    "if response.status_code == 200 :\n",
    "    soup = bs(response.content,'html.parser')\n",
    "    DimL = int( soup.find('li',attrs={'class':'pagination__page pagination__page--current'}).find('span').get_text())\n",
    "    DimF = int( soup.find_all('li',attrs={'class':'pagination__page'})[4].get_text() )"
   ]
  },
  {
   "cell_type": "code",
   "execution_count": null,
   "id": "3eab08e9",
   "metadata": {},
   "outputs": [],
   "source": [
    "LINK.append(url)\n",
    "\n",
    "#while(DimL<5):\n",
    "while(DimL<DimF):\n",
    "\n",
    "    try:\n",
    "        sigLink = url_base + soup.find('li',attrs={'class':'pagination__page-next pagination__page'}).find('a').get('href')\n",
    "        response = requests.get(sigLink)\n",
    "        soup=bs(response.content,'html.parser')\n",
    "        LINK.append(sigLink)\n",
    "    except:\n",
    "        print('error')\n",
    "    DimL=DimL+1\n",
    "print(LINK)\n"
   ]
  },
  {
   "cell_type": "code",
   "execution_count": null,
   "id": "d0013a89",
   "metadata": {},
   "outputs": [],
   "source": [
    "LINK"
   ]
  },
  {
   "cell_type": "code",
   "execution_count": null,
   "id": "e4c59d05",
   "metadata": {},
   "outputs": [],
   "source": [
    "aux=[]\n",
    "for i in range(0,len(LINK )):\n",
    "    aux.append(i)\n",
    "data=zip(aux,LINK)"
   ]
  },
  {
   "cell_type": "code",
   "execution_count": null,
   "id": "4673bc6d",
   "metadata": {},
   "outputs": [],
   "source": [
    "def _save_cars(data_,name,csv_headers):\n",
    "    import csv\n",
    "    out_file_name = 'Argenprop_{x}.csv'.format(x=name)\n",
    "    \n",
    "    with open(out_file_name, mode='w') as f:\n",
    "        writer = csv.writer(f)\n",
    "        writer.writerow(csv_headers)\n",
    "\n",
    "        for data in data_:\n",
    "            row =data \n",
    "            print(row)\n",
    "            writer.writerow(row)"
   ]
  },
  {
   "cell_type": "code",
   "execution_count": null,
   "id": "3473820c",
   "metadata": {},
   "outputs": [],
   "source": [
    "csv_headers=['id','link']\n",
    "name_csv='links'\n",
    "_save_cars(data,name_csv,csv_headers)"
   ]
  },
  {
   "cell_type": "code",
   "execution_count": null,
   "id": "706e5acd",
   "metadata": {},
   "outputs": [],
   "source": [
    "import pandas as pd\n",
    "import numpy as np"
   ]
  },
  {
   "cell_type": "code",
   "execution_count": null,
   "id": "c884f2ad",
   "metadata": {},
   "outputs": [],
   "source": [
    "data=pd.read_csv('Argenprop_links.csv',encoding='utf-8')\n",
    "data"
   ]
  },
  {
   "cell_type": "code",
   "execution_count": null,
   "id": "86be4789",
   "metadata": {},
   "outputs": [],
   "source": []
  },
  {
   "cell_type": "code",
   "execution_count": null,
   "id": "dba5ea39",
   "metadata": {},
   "outputs": [],
   "source": []
  }
 ],
 "metadata": {
  "kernelspec": {
   "display_name": "Python 3 (ipykernel)",
   "language": "python",
   "name": "python3"
  },
  "language_info": {
   "codemirror_mode": {
    "name": "ipython",
    "version": 3
   },
   "file_extension": ".py",
   "mimetype": "text/x-python",
   "name": "python",
   "nbconvert_exporter": "python",
   "pygments_lexer": "ipython3",
   "version": "3.8.10"
  }
 },
 "nbformat": 4,
 "nbformat_minor": 5
}
