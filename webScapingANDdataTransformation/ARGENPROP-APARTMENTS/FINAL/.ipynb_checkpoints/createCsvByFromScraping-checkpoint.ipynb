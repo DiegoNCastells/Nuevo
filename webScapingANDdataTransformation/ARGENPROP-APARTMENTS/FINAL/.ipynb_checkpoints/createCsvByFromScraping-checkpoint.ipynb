{
 "cells": [
  {
   "cell_type": "code",
   "execution_count": 1,
   "id": "9fb69a08",
   "metadata": {},
   "outputs": [],
   "source": [
    "import re\n",
    "import requests\n",
    "from bs4 import BeautifulSoup as bs"
   ]
  },
  {
   "cell_type": "code",
   "execution_count": 2,
   "id": "f03baf8e",
   "metadata": {},
   "outputs": [],
   "source": [
    "import lxml\n",
    "import time"
   ]
  },
  {
   "cell_type": "code",
   "execution_count": 3,
   "id": "bec06369",
   "metadata": {},
   "outputs": [],
   "source": [
    "LINK=[]"
   ]
  },
  {
   "cell_type": "code",
   "execution_count": 4,
   "id": "41e850d5",
   "metadata": {},
   "outputs": [],
   "source": [
    "url='https://www.argenprop.com/inmuebles-venta-barrio-palermo'\n",
    "url_base='https://www.argenprop.com'\n",
    "response = requests.get(url)"
   ]
  },
  {
   "cell_type": "code",
   "execution_count": 5,
   "id": "e3ab6326",
   "metadata": {},
   "outputs": [],
   "source": [
    "if response.status_code == 200 :\n",
    "    soup = bs(response.content,'html.parser')\n",
    "    DimL = int( soup.find('li',attrs={'class':'pagination__page pagination__page--current'}).find('span').get_text())\n",
    "    DimF = int( soup.find_all('li',attrs={'class':'pagination__page'})[4].get_text() )"
   ]
  },
  {
   "cell_type": "code",
   "execution_count": 6,
   "id": "3eab08e9",
   "metadata": {},
   "outputs": [
    {
     "name": "stdout",
     "output_type": "stream",
     "text": [
      "['https://www.argenprop.com/inmuebles-venta-barrio-palermo', 'https://www.argenprop.com/inmuebles-venta-barrio-palermo-pagina-2', 'https://www.argenprop.com/inmuebles-venta-barrio-palermo-pagina-3', 'https://www.argenprop.com/inmuebles-venta-barrio-palermo-pagina-4', 'https://www.argenprop.com/inmuebles-venta-barrio-palermo-pagina-5']\n"
     ]
    }
   ],
   "source": [
    "LINK.append(url)\n",
    "\n",
    "#while(DimL<5):\n",
    "while(DimL<DimF):\n",
    "\n",
    "    try:\n",
    "        sigLink = url_base + soup.find('li',attrs={'class':'pagination__page-next pagination__page'}).find('a').get('href')\n",
    "        response = requests.get(sigLink)\n",
    "        soup=bs(response.content,'html.parser')\n",
    "        LINK.append(sigLink)\n",
    "    except:\n",
    "        print('error')\n",
    "    DimL=DimL+1\n",
    "print(LINK)\n"
   ]
  },
  {
   "cell_type": "code",
   "execution_count": 7,
   "id": "d0013a89",
   "metadata": {},
   "outputs": [
    {
     "data": {
      "text/plain": [
       "['https://www.argenprop.com/inmuebles-venta-barrio-palermo',\n",
       " 'https://www.argenprop.com/inmuebles-venta-barrio-palermo-pagina-2',\n",
       " 'https://www.argenprop.com/inmuebles-venta-barrio-palermo-pagina-3',\n",
       " 'https://www.argenprop.com/inmuebles-venta-barrio-palermo-pagina-4',\n",
       " 'https://www.argenprop.com/inmuebles-venta-barrio-palermo-pagina-5']"
      ]
     },
     "execution_count": 7,
     "metadata": {},
     "output_type": "execute_result"
    }
   ],
   "source": [
    "LINK"
   ]
  },
  {
   "cell_type": "code",
   "execution_count": 8,
   "id": "e4c59d05",
   "metadata": {},
   "outputs": [],
   "source": [
    "aux=[]\n",
    "for i in range(0,len(LINK )):\n",
    "    aux.append(i)\n",
    "data=zip(aux,LINK)"
   ]
  },
  {
   "cell_type": "code",
   "execution_count": 9,
   "id": "4673bc6d",
   "metadata": {},
   "outputs": [],
   "source": [
    "def _save_cars(data_,name,csv_headers):\n",
    "    import csv\n",
    "    out_file_name = 'Argenprop_{x}.csv'.format(x=name)\n",
    "    \n",
    "    with open(out_file_name, mode='w') as f:\n",
    "        writer = csv.writer(f)\n",
    "        writer.writerow(csv_headers)\n",
    "\n",
    "        for data in data_:\n",
    "            row =data \n",
    "            print(row)\n",
    "            writer.writerow(row)"
   ]
  },
  {
   "cell_type": "code",
   "execution_count": 10,
   "id": "3473820c",
   "metadata": {},
   "outputs": [
    {
     "name": "stdout",
     "output_type": "stream",
     "text": [
      "(0, 'https://www.argenprop.com/inmuebles-venta-barrio-palermo')\n",
      "(1, 'https://www.argenprop.com/inmuebles-venta-barrio-palermo-pagina-2')\n",
      "(2, 'https://www.argenprop.com/inmuebles-venta-barrio-palermo-pagina-3')\n",
      "(3, 'https://www.argenprop.com/inmuebles-venta-barrio-palermo-pagina-4')\n",
      "(4, 'https://www.argenprop.com/inmuebles-venta-barrio-palermo-pagina-5')\n"
     ]
    }
   ],
   "source": [
    "csv_headers=['id','link']\n",
    "name_csv='links'\n",
    "_save_cars(data,name_csv,csv_headers)"
   ]
  },
  {
   "cell_type": "code",
   "execution_count": 11,
   "id": "706e5acd",
   "metadata": {},
   "outputs": [],
   "source": [
    "import pandas as pd\n",
    "import numpy as np"
   ]
  },
  {
   "cell_type": "code",
   "execution_count": 12,
   "id": "c884f2ad",
   "metadata": {},
   "outputs": [
    {
     "data": {
      "text/html": [
       "<div>\n",
       "<style scoped>\n",
       "    .dataframe tbody tr th:only-of-type {\n",
       "        vertical-align: middle;\n",
       "    }\n",
       "\n",
       "    .dataframe tbody tr th {\n",
       "        vertical-align: top;\n",
       "    }\n",
       "\n",
       "    .dataframe thead th {\n",
       "        text-align: right;\n",
       "    }\n",
       "</style>\n",
       "<table border=\"1\" class=\"dataframe\">\n",
       "  <thead>\n",
       "    <tr style=\"text-align: right;\">\n",
       "      <th></th>\n",
       "      <th>id</th>\n",
       "      <th>link</th>\n",
       "    </tr>\n",
       "  </thead>\n",
       "  <tbody>\n",
       "    <tr>\n",
       "      <th>0</th>\n",
       "      <td>0</td>\n",
       "      <td>https://www.argenprop.com/inmuebles-venta-barr...</td>\n",
       "    </tr>\n",
       "    <tr>\n",
       "      <th>1</th>\n",
       "      <td>1</td>\n",
       "      <td>https://www.argenprop.com/inmuebles-venta-barr...</td>\n",
       "    </tr>\n",
       "    <tr>\n",
       "      <th>2</th>\n",
       "      <td>2</td>\n",
       "      <td>https://www.argenprop.com/inmuebles-venta-barr...</td>\n",
       "    </tr>\n",
       "    <tr>\n",
       "      <th>3</th>\n",
       "      <td>3</td>\n",
       "      <td>https://www.argenprop.com/inmuebles-venta-barr...</td>\n",
       "    </tr>\n",
       "    <tr>\n",
       "      <th>4</th>\n",
       "      <td>4</td>\n",
       "      <td>https://www.argenprop.com/inmuebles-venta-barr...</td>\n",
       "    </tr>\n",
       "  </tbody>\n",
       "</table>\n",
       "</div>"
      ],
      "text/plain": [
       "   id                                               link\n",
       "0   0  https://www.argenprop.com/inmuebles-venta-barr...\n",
       "1   1  https://www.argenprop.com/inmuebles-venta-barr...\n",
       "2   2  https://www.argenprop.com/inmuebles-venta-barr...\n",
       "3   3  https://www.argenprop.com/inmuebles-venta-barr...\n",
       "4   4  https://www.argenprop.com/inmuebles-venta-barr..."
      ]
     },
     "execution_count": 12,
     "metadata": {},
     "output_type": "execute_result"
    }
   ],
   "source": [
    "data=pd.read_csv('Argenprop_links.csv',encoding='utf-8')\n",
    "data"
   ]
  },
  {
   "cell_type": "code",
   "execution_count": null,
   "id": "86be4789",
   "metadata": {},
   "outputs": [],
   "source": []
  },
  {
   "cell_type": "code",
   "execution_count": null,
   "id": "dba5ea39",
   "metadata": {},
   "outputs": [],
   "source": []
  }
 ],
 "metadata": {
  "kernelspec": {
   "display_name": "Python 3 (ipykernel)",
   "language": "python",
   "name": "python3"
  },
  "language_info": {
   "codemirror_mode": {
    "name": "ipython",
    "version": 3
   },
   "file_extension": ".py",
   "mimetype": "text/x-python",
   "name": "python",
   "nbconvert_exporter": "python",
   "pygments_lexer": "ipython3",
   "version": "3.8.10"
  }
 },
 "nbformat": 4,
 "nbformat_minor": 5
}
