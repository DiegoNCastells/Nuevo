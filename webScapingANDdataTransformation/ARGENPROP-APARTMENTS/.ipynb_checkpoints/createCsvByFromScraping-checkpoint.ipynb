{
 "cells": [
  {
   "cell_type": "code",
   "execution_count": 1,
   "id": "9fb69a08",
   "metadata": {},
   "outputs": [],
   "source": [
    "import re\n",
    "import requests\n",
    "from bs4 import BeautifulSoup as bs"
   ]
  },
  {
   "cell_type": "code",
   "execution_count": 2,
   "id": "f03baf8e",
   "metadata": {},
   "outputs": [],
   "source": [
    "import lxml\n",
    "import time"
   ]
  },
  {
   "cell_type": "code",
   "execution_count": 3,
   "id": "bec06369",
   "metadata": {},
   "outputs": [],
   "source": [
    "LINK=[]"
   ]
  },
  {
   "cell_type": "code",
   "execution_count": 4,
   "id": "41e850d5",
   "metadata": {},
   "outputs": [],
   "source": [
    "url='https://www.argenprop.com/inmuebles-venta-barrio-palermo'\n",
    "url_base='https://www.argenprop.com'\n",
    "response = requests.get(url)"
   ]
  },
  {
   "cell_type": "code",
   "execution_count": 5,
   "id": "e3ab6326",
   "metadata": {},
   "outputs": [],
   "source": [
    "if response.status_code == 200 :\n",
    "    soup = bs(response.content,'html.parser')\n",
    "    DimL = int( soup.find('li',attrs={'class':'pagination__page pagination__page--current'}).find('span').get_text())\n",
    "    DimF = int( soup.find_all('li',attrs={'class':'pagination__page'})[4].get_text() )"
   ]
  },
  {
   "cell_type": "code",
   "execution_count": 6,
   "id": "3eab08e9",
   "metadata": {},
   "outputs": [
    {
     "name": "stdout",
     "output_type": "stream",
     "text": [
      "error\n",
      "error\n",
      "error\n",
      "error\n",
      "error\n",
      "error\n",
      "error\n",
      "['https://www.argenprop.com/inmuebles-venta-barrio-palermo', 'https://www.argenprop.com/inmuebles-venta-barrio-palermo-pagina-2', 'https://www.argenprop.com/inmuebles-venta-barrio-palermo-pagina-3', 'https://www.argenprop.com/inmuebles-venta-barrio-palermo-pagina-4', 'https://www.argenprop.com/inmuebles-venta-barrio-palermo-pagina-5', 'https://www.argenprop.com/inmuebles-venta-barrio-palermo-pagina-6', 'https://www.argenprop.com/inmuebles-venta-barrio-palermo-pagina-7', 'https://www.argenprop.com/inmuebles-venta-barrio-palermo-pagina-8', 'https://www.argenprop.com/inmuebles-venta-barrio-palermo-pagina-9', 'https://www.argenprop.com/inmuebles-venta-barrio-palermo-pagina-10', 'https://www.argenprop.com/inmuebles-venta-barrio-palermo-pagina-11', 'https://www.argenprop.com/inmuebles-venta-barrio-palermo-pagina-12', 'https://www.argenprop.com/inmuebles-venta-barrio-palermo-pagina-13']\n"
     ]
    }
   ],
   "source": [
    "LINK.append(url)\n",
    "\n",
    "while(DimL<20):\n",
    "    try:\n",
    "        sigLink = url_base + soup.find('li',attrs={'class':'pagination__page-next pagination__page'}).find('a').get('href')\n",
    "        response = requests.get(sigLink)\n",
    "        soup=bs(response.content,'html.parser')\n",
    "        LINK.append(sigLink)\n",
    "    except:\n",
    "        print('error')\n",
    "    DimL=DimL+1\n",
    "print(LINK)\n"
   ]
  },
  {
   "cell_type": "code",
   "execution_count": 10,
   "id": "d0013a89",
   "metadata": {},
   "outputs": [
    {
     "data": {
      "text/plain": [
       "['https://www.argenprop.com/inmuebles-venta-barrio-palermo',\n",
       " 'https://www.argenprop.com/inmuebles-venta-barrio-palermo-pagina-2',\n",
       " 'https://www.argenprop.com/inmuebles-venta-barrio-palermo-pagina-3',\n",
       " 'https://www.argenprop.com/inmuebles-venta-barrio-palermo-pagina-4',\n",
       " 'https://www.argenprop.com/inmuebles-venta-barrio-palermo-pagina-5',\n",
       " 'https://www.argenprop.com/inmuebles-venta-barrio-palermo-pagina-6',\n",
       " 'https://www.argenprop.com/inmuebles-venta-barrio-palermo-pagina-7',\n",
       " 'https://www.argenprop.com/inmuebles-venta-barrio-palermo-pagina-8',\n",
       " 'https://www.argenprop.com/inmuebles-venta-barrio-palermo-pagina-9',\n",
       " 'https://www.argenprop.com/inmuebles-venta-barrio-palermo-pagina-10',\n",
       " 'https://www.argenprop.com/inmuebles-venta-barrio-palermo-pagina-11',\n",
       " 'https://www.argenprop.com/inmuebles-venta-barrio-palermo-pagina-12',\n",
       " 'https://www.argenprop.com/inmuebles-venta-barrio-palermo-pagina-13']"
      ]
     },
     "execution_count": 10,
     "metadata": {},
     "output_type": "execute_result"
    }
   ],
   "source": [
    "LINK"
   ]
  },
  {
   "cell_type": "code",
   "execution_count": 11,
   "id": "e4c59d05",
   "metadata": {},
   "outputs": [
    {
     "data": {
      "text/plain": [
       "13"
      ]
     },
     "execution_count": 11,
     "metadata": {},
     "output_type": "execute_result"
    }
   ],
   "source": [
    "len( LINK )"
   ]
  },
  {
   "cell_type": "code",
   "execution_count": 13,
   "id": "39e33469",
   "metadata": {},
   "outputs": [],
   "source": [
    "def _save_cars(data_,name,csv_headers):\n",
    "    import csv\n",
    "    out_file_name = 'Argenprop_{x}.csv'.format(x=name)\n",
    "    \n",
    "    with open(out_file_name, mode='w') as f:\n",
    "        writer = csv.writer(f)\n",
    "        writer.writerow(csv_headers)\n",
    "\n",
    "        for data in data_:\n",
    "            row =data\n",
    "            writer.writerow(row)\n",
    "csv_headers='links'\n",
    "name_csv='links'\n",
    "_save_cars(LINK,name_csv,csv_headers)"
   ]
  },
  {
   "cell_type": "code",
   "execution_count": 15,
   "id": "5b5d8221",
   "metadata": {},
   "outputs": [],
   "source": [
    "import pandas as pd\n",
    "import numpy as np"
   ]
  },
  {
   "cell_type": "code",
   "execution_count": 17,
   "id": "9911fa5f",
   "metadata": {},
   "outputs": [
    {
     "ename": "ParserError",
     "evalue": "Error tokenizing data. C error: Expected 56 fields in line 3, saw 65\n",
     "output_type": "error",
     "traceback": [
      "\u001b[0;31m---------------------------------------------------------------------------\u001b[0m",
      "\u001b[0;31mParserError\u001b[0m                               Traceback (most recent call last)",
      "Cell \u001b[0;32mIn [17], line 1\u001b[0m\n\u001b[0;32m----> 1\u001b[0m data \u001b[38;5;241m=\u001b[39m \u001b[43mpd\u001b[49m\u001b[38;5;241;43m.\u001b[39;49m\u001b[43mread_csv\u001b[49m\u001b[43m(\u001b[49m\u001b[38;5;124;43m'\u001b[39;49m\u001b[38;5;124;43mArgenprop_links.csv\u001b[39;49m\u001b[38;5;124;43m'\u001b[39;49m\u001b[43m,\u001b[49m\u001b[43mencoding\u001b[49m\u001b[38;5;241;43m=\u001b[39;49m\u001b[38;5;124;43m'\u001b[39;49m\u001b[38;5;124;43mutf-8\u001b[39;49m\u001b[38;5;124;43m'\u001b[39;49m\u001b[43m)\u001b[49m\n\u001b[1;32m      2\u001b[0m data\n",
      "File \u001b[0;32m~/.local/lib/python3.8/site-packages/pandas/util/_decorators.py:311\u001b[0m, in \u001b[0;36mdeprecate_nonkeyword_arguments.<locals>.decorate.<locals>.wrapper\u001b[0;34m(*args, **kwargs)\u001b[0m\n\u001b[1;32m    305\u001b[0m \u001b[38;5;28;01mif\u001b[39;00m \u001b[38;5;28mlen\u001b[39m(args) \u001b[38;5;241m>\u001b[39m num_allow_args:\n\u001b[1;32m    306\u001b[0m     warnings\u001b[38;5;241m.\u001b[39mwarn(\n\u001b[1;32m    307\u001b[0m         msg\u001b[38;5;241m.\u001b[39mformat(arguments\u001b[38;5;241m=\u001b[39marguments),\n\u001b[1;32m    308\u001b[0m         \u001b[38;5;167;01mFutureWarning\u001b[39;00m,\n\u001b[1;32m    309\u001b[0m         stacklevel\u001b[38;5;241m=\u001b[39mstacklevel,\n\u001b[1;32m    310\u001b[0m     )\n\u001b[0;32m--> 311\u001b[0m \u001b[38;5;28;01mreturn\u001b[39;00m \u001b[43mfunc\u001b[49m\u001b[43m(\u001b[49m\u001b[38;5;241;43m*\u001b[39;49m\u001b[43margs\u001b[49m\u001b[43m,\u001b[49m\u001b[43m \u001b[49m\u001b[38;5;241;43m*\u001b[39;49m\u001b[38;5;241;43m*\u001b[39;49m\u001b[43mkwargs\u001b[49m\u001b[43m)\u001b[49m\n",
      "File \u001b[0;32m~/.local/lib/python3.8/site-packages/pandas/io/parsers/readers.py:678\u001b[0m, in \u001b[0;36mread_csv\u001b[0;34m(filepath_or_buffer, sep, delimiter, header, names, index_col, usecols, squeeze, prefix, mangle_dupe_cols, dtype, engine, converters, true_values, false_values, skipinitialspace, skiprows, skipfooter, nrows, na_values, keep_default_na, na_filter, verbose, skip_blank_lines, parse_dates, infer_datetime_format, keep_date_col, date_parser, dayfirst, cache_dates, iterator, chunksize, compression, thousands, decimal, lineterminator, quotechar, quoting, doublequote, escapechar, comment, encoding, encoding_errors, dialect, error_bad_lines, warn_bad_lines, on_bad_lines, delim_whitespace, low_memory, memory_map, float_precision, storage_options)\u001b[0m\n\u001b[1;32m    663\u001b[0m kwds_defaults \u001b[38;5;241m=\u001b[39m _refine_defaults_read(\n\u001b[1;32m    664\u001b[0m     dialect,\n\u001b[1;32m    665\u001b[0m     delimiter,\n\u001b[0;32m   (...)\u001b[0m\n\u001b[1;32m    674\u001b[0m     defaults\u001b[38;5;241m=\u001b[39m{\u001b[38;5;124m\"\u001b[39m\u001b[38;5;124mdelimiter\u001b[39m\u001b[38;5;124m\"\u001b[39m: \u001b[38;5;124m\"\u001b[39m\u001b[38;5;124m,\u001b[39m\u001b[38;5;124m\"\u001b[39m},\n\u001b[1;32m    675\u001b[0m )\n\u001b[1;32m    676\u001b[0m kwds\u001b[38;5;241m.\u001b[39mupdate(kwds_defaults)\n\u001b[0;32m--> 678\u001b[0m \u001b[38;5;28;01mreturn\u001b[39;00m \u001b[43m_read\u001b[49m\u001b[43m(\u001b[49m\u001b[43mfilepath_or_buffer\u001b[49m\u001b[43m,\u001b[49m\u001b[43m \u001b[49m\u001b[43mkwds\u001b[49m\u001b[43m)\u001b[49m\n",
      "File \u001b[0;32m~/.local/lib/python3.8/site-packages/pandas/io/parsers/readers.py:581\u001b[0m, in \u001b[0;36m_read\u001b[0;34m(filepath_or_buffer, kwds)\u001b[0m\n\u001b[1;32m    578\u001b[0m     \u001b[38;5;28;01mreturn\u001b[39;00m parser\n\u001b[1;32m    580\u001b[0m \u001b[38;5;28;01mwith\u001b[39;00m parser:\n\u001b[0;32m--> 581\u001b[0m     \u001b[38;5;28;01mreturn\u001b[39;00m \u001b[43mparser\u001b[49m\u001b[38;5;241;43m.\u001b[39;49m\u001b[43mread\u001b[49m\u001b[43m(\u001b[49m\u001b[43mnrows\u001b[49m\u001b[43m)\u001b[49m\n",
      "File \u001b[0;32m~/.local/lib/python3.8/site-packages/pandas/io/parsers/readers.py:1253\u001b[0m, in \u001b[0;36mTextFileReader.read\u001b[0;34m(self, nrows)\u001b[0m\n\u001b[1;32m   1251\u001b[0m nrows \u001b[38;5;241m=\u001b[39m validate_integer(\u001b[38;5;124m\"\u001b[39m\u001b[38;5;124mnrows\u001b[39m\u001b[38;5;124m\"\u001b[39m, nrows)\n\u001b[1;32m   1252\u001b[0m \u001b[38;5;28;01mtry\u001b[39;00m:\n\u001b[0;32m-> 1253\u001b[0m     index, columns, col_dict \u001b[38;5;241m=\u001b[39m \u001b[38;5;28;43mself\u001b[39;49m\u001b[38;5;241;43m.\u001b[39;49m\u001b[43m_engine\u001b[49m\u001b[38;5;241;43m.\u001b[39;49m\u001b[43mread\u001b[49m\u001b[43m(\u001b[49m\u001b[43mnrows\u001b[49m\u001b[43m)\u001b[49m\n\u001b[1;32m   1254\u001b[0m \u001b[38;5;28;01mexcept\u001b[39;00m \u001b[38;5;167;01mException\u001b[39;00m:\n\u001b[1;32m   1255\u001b[0m     \u001b[38;5;28mself\u001b[39m\u001b[38;5;241m.\u001b[39mclose()\n",
      "File \u001b[0;32m~/.local/lib/python3.8/site-packages/pandas/io/parsers/c_parser_wrapper.py:225\u001b[0m, in \u001b[0;36mCParserWrapper.read\u001b[0;34m(self, nrows)\u001b[0m\n\u001b[1;32m    223\u001b[0m \u001b[38;5;28;01mtry\u001b[39;00m:\n\u001b[1;32m    224\u001b[0m     \u001b[38;5;28;01mif\u001b[39;00m \u001b[38;5;28mself\u001b[39m\u001b[38;5;241m.\u001b[39mlow_memory:\n\u001b[0;32m--> 225\u001b[0m         chunks \u001b[38;5;241m=\u001b[39m \u001b[38;5;28;43mself\u001b[39;49m\u001b[38;5;241;43m.\u001b[39;49m\u001b[43m_reader\u001b[49m\u001b[38;5;241;43m.\u001b[39;49m\u001b[43mread_low_memory\u001b[49m\u001b[43m(\u001b[49m\u001b[43mnrows\u001b[49m\u001b[43m)\u001b[49m\n\u001b[1;32m    226\u001b[0m         \u001b[38;5;66;03m# destructive to chunks\u001b[39;00m\n\u001b[1;32m    227\u001b[0m         data \u001b[38;5;241m=\u001b[39m _concatenate_chunks(chunks)\n",
      "File \u001b[0;32m~/.local/lib/python3.8/site-packages/pandas/_libs/parsers.pyx:805\u001b[0m, in \u001b[0;36mpandas._libs.parsers.TextReader.read_low_memory\u001b[0;34m()\u001b[0m\n",
      "File \u001b[0;32m~/.local/lib/python3.8/site-packages/pandas/_libs/parsers.pyx:861\u001b[0m, in \u001b[0;36mpandas._libs.parsers.TextReader._read_rows\u001b[0;34m()\u001b[0m\n",
      "File \u001b[0;32m~/.local/lib/python3.8/site-packages/pandas/_libs/parsers.pyx:847\u001b[0m, in \u001b[0;36mpandas._libs.parsers.TextReader._tokenize_rows\u001b[0;34m()\u001b[0m\n",
      "File \u001b[0;32m~/.local/lib/python3.8/site-packages/pandas/_libs/parsers.pyx:1960\u001b[0m, in \u001b[0;36mpandas._libs.parsers.raise_parser_error\u001b[0;34m()\u001b[0m\n",
      "\u001b[0;31mParserError\u001b[0m: Error tokenizing data. C error: Expected 56 fields in line 3, saw 65\n"
     ]
    }
   ],
   "source": [
    "data = pd.read_csv('Argenprop_links.csv',encoding='utf-8')\n",
    "data"
   ]
  }
 ],
 "metadata": {
  "kernelspec": {
   "display_name": "Python 3 (ipykernel)",
   "language": "python",
   "name": "python3"
  },
  "language_info": {
   "codemirror_mode": {
    "name": "ipython",
    "version": 3
   },
   "file_extension": ".py",
   "mimetype": "text/x-python",
   "name": "python",
   "nbconvert_exporter": "python",
   "pygments_lexer": "ipython3",
   "version": "3.8.10"
  }
 },
 "nbformat": 4,
 "nbformat_minor": 5
}
