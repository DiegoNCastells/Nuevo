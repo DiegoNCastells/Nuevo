{
 "cells": [
  {
   "cell_type": "code",
   "execution_count": 1,
   "id": "da254d9c",
   "metadata": {},
   "outputs": [],
   "source": [
    "import requests\n",
    "from bs4 import BeautifulSoup as bs\n",
    "import re"
   ]
  },
  {
   "cell_type": "code",
   "execution_count": 2,
   "id": "a7b9db36",
   "metadata": {},
   "outputs": [],
   "source": [
    "url = 'https://www.lanacion.com.ar'\n",
    "response = requests.get(url)"
   ]
  },
  {
   "cell_type": "code",
   "execution_count": 3,
   "id": "2065013e",
   "metadata": {},
   "outputs": [
    {
     "name": "stdout",
     "output_type": "stream",
     "text": [
      "piola\n"
     ]
    }
   ],
   "source": [
    "if response.status_code==200 :\n",
    "    print('piola')\n",
    "    soup=bs(response.content,'html.parser')\n",
    "    secciones=soup.find_all('a',attrs={'link__item'})\n",
    "    secciones=[seccion.get('href') for seccion in secciones if(seccion.get('href'))]"
   ]
  },
  {
   "cell_type": "code",
   "execution_count": 4,
   "id": "5c00f1f6",
   "metadata": {},
   "outputs": [
    {
     "name": "stdout",
     "output_type": "stream",
     "text": [
      "piola\n"
     ]
    }
   ],
   "source": [
    "if response.status_code==200 :\n",
    "    print('piola')\n",
    "    soup=bs(response.content,'html.parser')\n",
    "    secciones=soup.find_all('a',attrs={'link__item'})\n",
    "    secciones=[ seccion.get('href') for seccion in secciones if( re.search('^(https://www.lanacion.)+',seccion.get('href')) ) ] "
   ]
  },
  {
   "cell_type": "code",
   "execution_count": 5,
   "id": "f48c4b1a",
   "metadata": {},
   "outputs": [],
   "source": [
    "secciones=[ seccion[:-1] for seccion in secciones ]"
   ]
  },
  {
   "cell_type": "code",
   "execution_count": 6,
   "id": "622459b6",
   "metadata": {},
   "outputs": [
    {
     "data": {
      "text/plain": [
       "53"
      ]
     },
     "execution_count": 6,
     "metadata": {},
     "output_type": "execute_result"
    }
   ],
   "source": [
    "len(secciones)"
   ]
  },
  {
   "cell_type": "code",
   "execution_count": 7,
   "id": "c6fdc27f",
   "metadata": {
    "scrolled": true
   },
   "outputs": [
    {
     "data": {
      "text/plain": [
       "['https://www.lanacion.com.ar/ultimas-noticias',\n",
       " 'https://www.lanacion.com.ar/transito',\n",
       " 'https://www.lanacion.com.ar/clima',\n",
       " 'https://www.lanacion.com.ar/data',\n",
       " 'https://www.lanacion.com.ar/politica',\n",
       " 'https://www.lanacion.com.ar/economia',\n",
       " 'https://www.lanacion.com.ar/dolar-hoy',\n",
       " 'https://www.lanacion.com.ar/economia/campo',\n",
       " 'https://www.lanacion.com.ar/propiedades',\n",
       " 'https://www.lanacion.com.ar/economia/comercio-exterior',\n",
       " 'https://www.lanacion.com.ar/economia/indice',\n",
       " 'https://www.lanacion.com.ar/economia/calculadora-ganancias-cuanto-se-pagara-2021-como-nid2561244',\n",
       " 'https://www.lanacion.com.ar/el-mundo',\n",
       " 'https://www.lanacion.com.ar/sociedad',\n",
       " 'https://www.lanacion.com.ar/buenos-aires',\n",
       " 'https://www.lanacion.com.ar/seguridad',\n",
       " 'https://www.lanacion.com.ar/educacion',\n",
       " 'https://www.lanacion.com.ar/cultura',\n",
       " 'https://www.lanacion.com.ar/comunidad',\n",
       " 'https://www.lanacion.com.ar/ciencia',\n",
       " 'https://www.lanacion.com.ar/comunidad/hablemos-de-todo',\n",
       " 'https://www.lanacion.com.ar/opinion',\n",
       " 'https://www.lanacion.com.ar/opinion/columnistas',\n",
       " 'https://www.lanacion.com.ar/editoriales',\n",
       " 'https://www.lanacion.com.ar/opinion/carta-de-suscriptores',\n",
       " 'https://www.lanacion.com.ar/deportes',\n",
       " 'https://www.lanacion.com.ar/deportes/futbol',\n",
       " 'https://www.lanacion.com.ar/deportes/rugby',\n",
       " 'https://www.lanacion.com.ar/deportes/tenis',\n",
       " 'https://www.lanacion.com.ar/deportes/canchallena',\n",
       " 'https://www.lanacion.com.ar/lifestyle',\n",
       " 'https://www.lanacion.com.ar/turismo',\n",
       " 'https://www.lanacion.com.ar/tecnologia',\n",
       " 'https://www.lanacion.com.ar/horoscopo',\n",
       " 'https://www.lanacion.com.ar/feriado',\n",
       " 'https://www.lanacion.com.ar/loterias',\n",
       " 'https://www.lanacion.com.ar/recetas',\n",
       " 'https://www.lanacion.com.ar/tema/podcasts-tid64878',\n",
       " 'https://www.lanacion.com.ar/espectaculos',\n",
       " 'https://www.lanacion.com.ar/cartelera-de-cin',\n",
       " 'https://www.lanacion.com.ar/cartelera-de-teatr',\n",
       " 'https://www.lanacion.com.a',\n",
       " 'https://www.lanacion.com.ar/la-nacion-revista',\n",
       " 'https://www.lanacion.com.ar/sabado',\n",
       " 'https://www.lanacion.com.ar/ideas',\n",
       " 'https://www.lanacion.com.ar/editoriales',\n",
       " 'https://www.lanacion.com.ar/opinion/carta-de-lectores',\n",
       " 'https://www.lanacion.com.ar/revistas',\n",
       " 'https://www.lanacion.com.ar/revista-hola',\n",
       " 'https://www.lanacion.com.ar/revista-lugares',\n",
       " 'https://www.lanacion.com.ar/revista-living',\n",
       " 'https://www.lanacion.com.ar/revista-brando',\n",
       " 'https://www.lanacion.com.ar/revista-jardin']"
      ]
     },
     "execution_count": 7,
     "metadata": {},
     "output_type": "execute_result"
    }
   ],
   "source": [
    "secciones"
   ]
  },
  {
   "cell_type": "code",
   "execution_count": 11,
   "id": "d1acc897",
   "metadata": {},
   "outputs": [],
   "source": [
    "seccion=secciones[1]\n",
    "response_desc=requests.get(seccion)\n",
    "if response_desc.status_code == 200 :\n",
    "    soap_desc=bs(response_desc.content,'html.parser')\n",
    "    posts=soap_desc.find_all('h2',attrs={'com-title --xs'})\n",
    "    linksPosts=[url+post.find('a',attrs={'com-link'}).get('href') for post in posts ]"
   ]
  },
  {
   "cell_type": "code",
   "execution_count": 12,
   "id": "50e90c5b",
   "metadata": {
    "scrolled": true
   },
   "outputs": [
    {
     "data": {
      "text/plain": [
       "['https://www.lanacion.com.ar/transito/peligroso-un-automovilista-andaba-por-la-autopista-buenos-aires-la-plata-con-siete-colchones-en-el-nid20022022/',\n",
       " 'https://www.lanacion.com.ar/sociedad/las-aglomeraciones-no-desaparecen-asi-se-vivio-el-debut-de-la-ampliacion-del-aforo-en-el-transporte-nid10082021/',\n",
       " 'https://www.lanacion.com.ar/politica/apertura-sesiones-congreso-cuales-son-cortes-calles-nid2616805/',\n",
       " 'https://www.lanacion.com.ar/economia/plan-mi-moto-2021-como-comprar-unidades-nid2605035/',\n",
       " 'https://www.lanacion.com.ar/economia/bicicletas-36-cuotas-sin-interes-como-donde-nid2604026/',\n",
       " 'https://www.lanacion.com.ar/sociedad/telepase-peajes-caba-cuando-hay-tiempo-sacarlo-nid2461052/',\n",
       " 'https://www.lanacion.com.ar/buenos-aires/vuelta-clases-como-seran-protocolos-omnibus-escolares-nid2587031/',\n",
       " 'https://www.lanacion.com.ar/sociedad/pinamar-cinco-anos-medio-sin-servicio-volvio-nid2581948/',\n",
       " 'https://www.lanacion.com.ar/sociedad/coronavirus-como-se-debe-viajar-auto-reducir-nid2581034/',\n",
       " 'https://www.lanacion.com.ar/sociedad/pinamar-por-que-comerciantes-vecinos-rechazan-nuevas-nid2575069/',\n",
       " 'https://www.lanacion.com.ar/sociedad/provincia-pase-libre-multimodal-trenes-discapacitados-nid2568848/',\n",
       " 'https://www.lanacion.com.ar/buenos-aires/san-isidro-como-sera-nueva-bicisenda-acceso-nid2553837/',\n",
       " 'https://www.lanacion.com.ar/buenos-aires/hicimos-cenita-poco-vitel-tone-poquito-cerveza-nid2551428/',\n",
       " 'https://www.lanacion.com.ar/sociedad/la-calle-es-locura-caos-once-avenida-nid2548519/',\n",
       " 'https://www.lanacion.com.ar/buenos-aires/dellepiane-terminal-fantasma-se-activo-fuerza-durante-nid2543195/',\n",
       " 'https://www.lanacion.com.ar/buenos-aires/manana-reabren-cinco-estaciones-mas-subte-habian-nid2546421/',\n",
       " 'https://www.lanacion.com.ar/buenos-aires/terminal-retiro-cerrada-nid2538138/',\n",
       " 'https://www.lanacion.com.ar/sociedad/reserva-tu-tren-roca-lunes-sera-requisito-nid2536227/',\n",
       " 'https://www.lanacion.com.ar/buenos-aires/proyecto-supermanzanas-nid2534218/',\n",
       " 'https://www.lanacion.com.ar/buenos-aires/vacaciones-cuando-se-habilitan-colectivos-larga-distancia-nid2527810/',\n",
       " 'https://www.lanacion.com.ar/lifestyle/video-se-le-quedo-auto-vias-bajo-nid2526930/',\n",
       " 'https://www.lanacion.com.ar/sociedad/belgrano-colectivo-se-atasco-viaducto-del-tren-nid2526798/',\n",
       " 'https://www.lanacion.com.ar/lifestyle/como-saber-si-tengo-multas-transito-provincia-nid2516887/',\n",
       " 'https://www.lanacion.com.ar/buenos-aires/estacionamiento-ciudad-se-multiplicaran-20-espacios-arancelados-nid2514759/',\n",
       " 'https://www.lanacion.com.ar/buenos-aires/sistema-ecobici-tarifa-turistas-residentes-nid2514711/',\n",
       " 'https://www.lanacion.com.ar/sociedad/coronavirus-argentina-habilitan-pasajeros-parados-trenes-colectivos-nid2508763/',\n",
       " 'https://www.lanacion.com.ar/sociedad/ciudad-reapertura-bares-volvieron-controles-alcoholemia-nid2506586/',\n",
       " 'https://www.lanacion.com.ar/politica/el-centro-imposible-reaparecio-raul-castells-al-nid2505522/',\n",
       " 'https://www.lanacion.com.ar/buenos-aires/ciudad-viajar-pie-habilitacion-se-proyecta-transporte-nid2500318/',\n",
       " 'https://www.lanacion.com.ar/buenos-aires/adios-parquimetros-ciudad-planea-reemplazarlos-aplicaciones-nid2499941/']"
      ]
     },
     "execution_count": 12,
     "metadata": {},
     "output_type": "execute_result"
    }
   ],
   "source": [
    "linksPosts "
   ]
  },
  {
   "cell_type": "code",
   "execution_count": null,
   "id": "6f5bf5ef",
   "metadata": {},
   "outputs": [],
   "source": [
    "def dataClean(soup,link):\n",
    "    title=soup.\n",
    "    date=\n",
    "    section=\n",
    "    bolant=\n",
    "    autor\n",
    "    tems="
   ]
  },
  {
   "cell_type": "code",
   "execution_count": 15,
   "id": "73efee75",
   "metadata": {},
   "outputs": [],
   "source": [
    "    #for link in linksPosts:\n",
    "    link = linksPosts[5]\n",
    "    response_link=requests.get(link)\n",
    "    if response_link == 200:\n",
    "        soap_post=bs(response_link.content,'html.parser')\n",
    "        dataClean(soap_post,link)\n"
   ]
  },
  {
   "cell_type": "code",
   "execution_count": 16,
   "id": "7bd6259d",
   "metadata": {},
   "outputs": [
    {
     "name": "stdout",
     "output_type": "stream",
     "text": [
      "https://www.lanacion.com.ar/sociedad/telepase-peajes-caba-cuando-hay-tiempo-sacarlo-nid2461052/\n"
     ]
    }
   ],
   "source": [
    "print(link)"
   ]
  },
  {
   "cell_type": "code",
   "execution_count": null,
   "id": "92fc9bf4",
   "metadata": {},
   "outputs": [],
   "source": []
  }
 ],
 "metadata": {
  "kernelspec": {
   "display_name": "Python 3 (ipykernel)",
   "language": "python",
   "name": "python3"
  },
  "language_info": {
   "codemirror_mode": {
    "name": "ipython",
    "version": 3
   },
   "file_extension": ".py",
   "mimetype": "text/x-python",
   "name": "python",
   "nbconvert_exporter": "python",
   "pygments_lexer": "ipython3",
   "version": "3.8.10"
  }
 },
 "nbformat": 4,
 "nbformat_minor": 5
}
